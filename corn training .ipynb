{
  "cells": [
    {
      "cell_type": "code",
      "execution_count": null,
      "metadata": {
        "colab": {
          "base_uri": "https://localhost:8080/"
        },
        "id": "XW6v3bvwUtU3",
        "outputId": "808285fd-fb4c-4ab7-e0e1-a473447b6db2"
      },
      "outputs": [
        {
          "name": "stdout",
          "output_type": "stream",
          "text": [
            "Counter({np.int64(1): 1717, np.int64(0): 1659, np.int64(2): 1608, np.int64(3): 1542})\n",
            "Epoch 1/50\n",
            "\u001b[1m164/164\u001b[0m \u001b[32m━━━━━━━━━━━━━━━━━━━━\u001b[0m\u001b[37m\u001b[0m \u001b[1m347s\u001b[0m 2s/step - accuracy: 0.5654 - loss: 0.9886 - val_accuracy: 0.7343 - val_loss: 0.6144\n",
            "Epoch 2/50\n",
            "\u001b[1m164/164\u001b[0m \u001b[32m━━━━━━━━━━━━━━━━━━━━\u001b[0m\u001b[37m\u001b[0m \u001b[1m390s\u001b[0m 2s/step - accuracy: 0.8268 - loss: 0.3974 - val_accuracy: 0.7642 - val_loss: 0.5277\n",
            "Epoch 3/50\n",
            "\u001b[1m164/164\u001b[0m \u001b[32m━━━━━━━━━━━━━━━━━━━━\u001b[0m\u001b[37m\u001b[0m \u001b[1m379s\u001b[0m 2s/step - accuracy: 0.8833 - loss: 0.2905 - val_accuracy: 0.7519 - val_loss: 0.6985\n",
            "Epoch 4/50\n",
            "\u001b[1m164/164\u001b[0m \u001b[32m━━━━━━━━━━━━━━━━━━━━\u001b[0m\u001b[37m\u001b[0m \u001b[1m400s\u001b[0m 2s/step - accuracy: 0.9091 - loss: 0.2327 - val_accuracy: 0.8844 - val_loss: 0.2810\n",
            "Epoch 5/50\n",
            "\u001b[1m164/164\u001b[0m \u001b[32m━━━━━━━━━━━━━━━━━━━━\u001b[0m\u001b[37m\u001b[0m \u001b[1m379s\u001b[0m 2s/step - accuracy: 0.9258 - loss: 0.1812 - val_accuracy: 0.9418 - val_loss: 0.1692\n",
            "Epoch 6/50\n",
            "\u001b[1m164/164\u001b[0m \u001b[32m━━━━━━━━━━━━━━━━━━━━\u001b[0m\u001b[37m\u001b[0m \u001b[1m383s\u001b[0m 2s/step - accuracy: 0.9453 - loss: 0.1454 - val_accuracy: 0.7802 - val_loss: 0.5696\n",
            "Epoch 7/50\n",
            "\u001b[1m164/164\u001b[0m \u001b[32m━━━━━━━━━━━━━━━━━━━━\u001b[0m\u001b[37m\u001b[0m \u001b[1m378s\u001b[0m 2s/step - accuracy: 0.9436 - loss: 0.1621 - val_accuracy: 0.8492 - val_loss: 0.4185\n",
            "Epoch 8/50\n",
            "\u001b[1m164/164\u001b[0m \u001b[32m━━━━━━━━━━━━━━━━━━━━\u001b[0m\u001b[37m\u001b[0m \u001b[1m383s\u001b[0m 2s/step - accuracy: 0.9530 - loss: 0.1296 - val_accuracy: 0.9326 - val_loss: 0.1887\n",
            "Epoch 9/50\n",
            "\u001b[1m164/164\u001b[0m \u001b[32m━━━━━━━━━━━━━━━━━━━━\u001b[0m\u001b[37m\u001b[0m \u001b[1m362s\u001b[0m 2s/step - accuracy: 0.9598 - loss: 0.1065 - val_accuracy: 0.9487 - val_loss: 0.1419\n",
            "Epoch 10/50\n",
            "\u001b[1m164/164\u001b[0m \u001b[32m━━━━━━━━━━━━━━━━━━━━\u001b[0m\u001b[37m\u001b[0m \u001b[1m383s\u001b[0m 2s/step - accuracy: 0.9582 - loss: 0.1043 - val_accuracy: 0.9311 - val_loss: 0.2334\n",
            "Epoch 11/50\n",
            "\u001b[1m164/164\u001b[0m \u001b[32m━━━━━━━━━━━━━━━━━━━━\u001b[0m\u001b[37m\u001b[0m \u001b[1m382s\u001b[0m 2s/step - accuracy: 0.9670 - loss: 0.0902 - val_accuracy: 0.8492 - val_loss: 0.5555\n",
            "Epoch 12/50\n",
            "\u001b[1m164/164\u001b[0m \u001b[32m━━━━━━━━━━━━━━━━━━━━\u001b[0m\u001b[37m\u001b[0m \u001b[1m363s\u001b[0m 2s/step - accuracy: 0.9668 - loss: 0.0921 - val_accuracy: 0.9587 - val_loss: 0.1191\n",
            "Epoch 13/50\n",
            "\u001b[1m164/164\u001b[0m \u001b[32m━━━━━━━━━━━━━━━━━━━━\u001b[0m\u001b[37m\u001b[0m \u001b[1m359s\u001b[0m 2s/step - accuracy: 0.9753 - loss: 0.0685 - val_accuracy: 0.8951 - val_loss: 0.2888\n",
            "Epoch 14/50\n",
            "\u001b[1m164/164\u001b[0m \u001b[32m━━━━━━━━━━━━━━━━━━━━\u001b[0m\u001b[37m\u001b[0m \u001b[1m405s\u001b[0m 2s/step - accuracy: 0.9753 - loss: 0.0647 - val_accuracy: 0.9395 - val_loss: 0.1594\n",
            "Epoch 15/50\n",
            "\u001b[1m164/164\u001b[0m \u001b[32m━━━━━━━━━━━━━━━━━━━━\u001b[0m\u001b[37m\u001b[0m \u001b[1m360s\u001b[0m 2s/step - accuracy: 0.9759 - loss: 0.0634 - val_accuracy: 0.9625 - val_loss: 0.1273\n",
            "Epoch 16/50\n",
            "\u001b[1m164/164\u001b[0m \u001b[32m━━━━━━━━━━━━━━━━━━━━\u001b[0m\u001b[37m\u001b[0m \u001b[1m378s\u001b[0m 2s/step - accuracy: 0.9808 - loss: 0.0501 - val_accuracy: 0.9518 - val_loss: 0.1490\n",
            "Epoch 17/50\n",
            "\u001b[1m164/164\u001b[0m \u001b[32m━━━━━━━━━━━━━━━━━━━━\u001b[0m\u001b[37m\u001b[0m \u001b[1m358s\u001b[0m 2s/step - accuracy: 0.9762 - loss: 0.0596 - val_accuracy: 0.9602 - val_loss: 0.1298\n",
            "Epoch 18/50\n",
            "\u001b[1m164/164\u001b[0m \u001b[32m━━━━━━━━━━━━━━━━━━━━\u001b[0m\u001b[37m\u001b[0m \u001b[1m379s\u001b[0m 2s/step - accuracy: 0.9843 - loss: 0.0453 - val_accuracy: 0.9632 - val_loss: 0.1135\n",
            "Epoch 19/50\n",
            "\u001b[1m164/164\u001b[0m \u001b[32m━━━━━━━━━━━━━━━━━━━━\u001b[0m\u001b[37m\u001b[0m \u001b[1m380s\u001b[0m 2s/step - accuracy: 0.9871 - loss: 0.0406 - val_accuracy: 0.9617 - val_loss: 0.1249\n",
            "Epoch 20/50\n",
            "\u001b[1m164/164\u001b[0m \u001b[32m━━━━━━━━━━━━━━━━━━━━\u001b[0m\u001b[37m\u001b[0m \u001b[1m391s\u001b[0m 2s/step - accuracy: 0.9850 - loss: 0.0391 - val_accuracy: 0.9495 - val_loss: 0.1660\n",
            "Epoch 21/50\n",
            "\u001b[1m164/164\u001b[0m \u001b[32m━━━━━━━━━━━━━━━━━━━━\u001b[0m\u001b[37m\u001b[0m \u001b[1m365s\u001b[0m 2s/step - accuracy: 0.9862 - loss: 0.0391 - val_accuracy: 0.9472 - val_loss: 0.1726\n",
            "Epoch 22/50\n",
            "\u001b[1m164/164\u001b[0m \u001b[32m━━━━━━━━━━━━━━━━━━━━\u001b[0m\u001b[37m\u001b[0m \u001b[1m357s\u001b[0m 2s/step - accuracy: 0.9838 - loss: 0.0429 - val_accuracy: 0.9617 - val_loss: 0.1338\n",
            "Epoch 23/50\n",
            "\u001b[1m164/164\u001b[0m \u001b[32m━━━━━━━━━━━━━━━━━━━━\u001b[0m\u001b[37m\u001b[0m \u001b[1m367s\u001b[0m 2s/step - accuracy: 0.9869 - loss: 0.0328 - val_accuracy: 0.9663 - val_loss: 0.1305\n",
            "Epoch 24/50\n",
            "\u001b[1m164/164\u001b[0m \u001b[32m━━━━━━━━━━━━━━━━━━━━\u001b[0m\u001b[37m\u001b[0m \u001b[1m403s\u001b[0m 2s/step - accuracy: 0.9870 - loss: 0.0382 - val_accuracy: 0.9556 - val_loss: 0.1540\n",
            "Epoch 25/50\n",
            "\u001b[1m164/164\u001b[0m \u001b[32m━━━━━━━━━━━━━━━━━━━━\u001b[0m\u001b[37m\u001b[0m \u001b[1m360s\u001b[0m 2s/step - accuracy: 0.9932 - loss: 0.0209 - val_accuracy: 0.9204 - val_loss: 0.2971\n",
            "Epoch 26/50\n",
            "\u001b[1m164/164\u001b[0m \u001b[32m━━━━━━━━━━━━━━━━━━━━\u001b[0m\u001b[37m\u001b[0m \u001b[1m405s\u001b[0m 2s/step - accuracy: 0.9870 - loss: 0.0340 - val_accuracy: 0.9655 - val_loss: 0.1386\n",
            "Epoch 27/50\n",
            "\u001b[1m164/164\u001b[0m \u001b[32m━━━━━━━━━━━━━━━━━━━━\u001b[0m\u001b[37m\u001b[0m \u001b[1m363s\u001b[0m 2s/step - accuracy: 0.9943 - loss: 0.0179 - val_accuracy: 0.9418 - val_loss: 0.2014\n",
            "Epoch 28/50\n",
            "\u001b[1m164/164\u001b[0m \u001b[32m━━━━━━━━━━━━━━━━━━━━\u001b[0m\u001b[37m\u001b[0m \u001b[1m365s\u001b[0m 2s/step - accuracy: 0.9926 - loss: 0.0253 - val_accuracy: 0.9541 - val_loss: 0.2174\n",
            "Epoch 29/50\n",
            "\u001b[1m164/164\u001b[0m \u001b[32m━━━━━━━━━━━━━━━━━━━━\u001b[0m\u001b[37m\u001b[0m \u001b[1m378s\u001b[0m 2s/step - accuracy: 0.9937 - loss: 0.0193 - val_accuracy: 0.9609 - val_loss: 0.1515\n",
            "Epoch 30/50\n",
            "\u001b[1m164/164\u001b[0m \u001b[32m━━━━━━━━━━━━━━━━━━━━\u001b[0m\u001b[37m\u001b[0m \u001b[1m379s\u001b[0m 2s/step - accuracy: 0.9945 - loss: 0.0175 - val_accuracy: 0.9655 - val_loss: 0.1460\n",
            "Epoch 31/50\n",
            "\u001b[1m164/164\u001b[0m \u001b[32m━━━━━━━━━━━━━━━━━━━━\u001b[0m\u001b[37m\u001b[0m \u001b[1m356s\u001b[0m 2s/step - accuracy: 0.9954 - loss: 0.0137 - val_accuracy: 0.9671 - val_loss: 0.1473\n",
            "Epoch 32/50\n",
            "\u001b[1m164/164\u001b[0m \u001b[32m━━━━━━━━━━━━━━━━━━━━\u001b[0m\u001b[37m\u001b[0m \u001b[1m405s\u001b[0m 2s/step - accuracy: 0.9934 - loss: 0.0137 - val_accuracy: 0.9663 - val_loss: 0.1448\n",
            "Epoch 33/50\n",
            "\u001b[1m164/164\u001b[0m \u001b[32m━━━━━━━━━━━━━━━━━━━━\u001b[0m\u001b[37m\u001b[0m \u001b[1m333s\u001b[0m 2s/step - accuracy: 0.9952 - loss: 0.0151 - val_accuracy: 0.9678 - val_loss: 0.1503\n",
            "Epoch 34/50\n",
            "\u001b[1m164/164\u001b[0m \u001b[32m━━━━━━━━━━━━━━━━━━━━\u001b[0m\u001b[37m\u001b[0m \u001b[1m408s\u001b[0m 2s/step - accuracy: 0.9960 - loss: 0.0104 - val_accuracy: 0.9663 - val_loss: 0.1777\n",
            "Epoch 35/50\n",
            "\u001b[1m164/164\u001b[0m \u001b[32m━━━━━━━━━━━━━━━━━━━━\u001b[0m\u001b[37m\u001b[0m \u001b[1m385s\u001b[0m 2s/step - accuracy: 0.9972 - loss: 0.0107 - val_accuracy: 0.9663 - val_loss: 0.1737\n",
            "Epoch 36/50\n",
            "\u001b[1m164/164\u001b[0m \u001b[32m━━━━━━━━━━━━━━━━━━━━\u001b[0m\u001b[37m\u001b[0m \u001b[1m382s\u001b[0m 2s/step - accuracy: 0.9975 - loss: 0.0081 - val_accuracy: 0.9648 - val_loss: 0.1837\n",
            "Epoch 37/50\n",
            "\u001b[1m164/164\u001b[0m \u001b[32m━━━━━━━━━━━━━━━━━━━━\u001b[0m\u001b[37m\u001b[0m \u001b[1m380s\u001b[0m 2s/step - accuracy: 0.9972 - loss: 0.0095 - val_accuracy: 0.9564 - val_loss: 0.2161\n",
            "Epoch 38/50\n",
            "\u001b[1m164/164\u001b[0m \u001b[32m━━━━━━━━━━━━━━━━━━━━\u001b[0m\u001b[37m\u001b[0m \u001b[1m365s\u001b[0m 2s/step - accuracy: 0.9980 - loss: 0.0072 - val_accuracy: 0.9632 - val_loss: 0.1913\n",
            "Epoch 39/50\n",
            "\u001b[1m164/164\u001b[0m \u001b[32m━━━━━━━━━━━━━━━━━━━━\u001b[0m\u001b[37m\u001b[0m \u001b[1m400s\u001b[0m 2s/step - accuracy: 0.9986 - loss: 0.0074 - val_accuracy: 0.9648 - val_loss: 0.2038\n",
            "Epoch 40/50\n",
            "\u001b[1m164/164\u001b[0m \u001b[32m━━━━━━━━━━━━━━━━━━━━\u001b[0m\u001b[37m\u001b[0m \u001b[1m360s\u001b[0m 2s/step - accuracy: 0.9972 - loss: 0.0076 - val_accuracy: 0.9686 - val_loss: 0.1888\n",
            "Epoch 41/50\n",
            "\u001b[1m164/164\u001b[0m \u001b[32m━━━━━━━━━━━━━━━━━━━━\u001b[0m\u001b[37m\u001b[0m \u001b[1m366s\u001b[0m 2s/step - accuracy: 0.9975 - loss: 0.0072 - val_accuracy: 0.9663 - val_loss: 0.2111\n",
            "Epoch 42/50\n",
            "\u001b[1m164/164\u001b[0m \u001b[32m━━━━━━━━━━━━━━━━━━━━\u001b[0m\u001b[37m\u001b[0m \u001b[1m399s\u001b[0m 2s/step - accuracy: 0.9992 - loss: 0.0024 - val_accuracy: 0.9671 - val_loss: 0.2195\n",
            "Epoch 43/50\n",
            "\u001b[1m164/164\u001b[0m \u001b[32m━━━━━━━━━━━━━━━━━━━━\u001b[0m\u001b[37m\u001b[0m \u001b[1m357s\u001b[0m 2s/step - accuracy: 0.9981 - loss: 0.0051 - val_accuracy: 0.9655 - val_loss: 0.1997\n",
            "Epoch 44/50\n",
            "\u001b[1m164/164\u001b[0m \u001b[32m━━━━━━━━━━━━━━━━━━━━\u001b[0m\u001b[37m\u001b[0m \u001b[1m389s\u001b[0m 2s/step - accuracy: 0.9999 - loss: 0.0015 - val_accuracy: 0.9632 - val_loss: 0.2043\n",
            "Epoch 45/50\n",
            "\u001b[1m164/164\u001b[0m \u001b[32m━━━━━━━━━━━━━━━━━━━━\u001b[0m\u001b[37m\u001b[0m \u001b[1m381s\u001b[0m 2s/step - accuracy: 0.9995 - loss: 0.0024 - val_accuracy: 0.9556 - val_loss: 0.3103\n",
            "Epoch 46/50\n",
            "\u001b[1m164/164\u001b[0m \u001b[32m━━━━━━━━━━━━━━━━━━━━\u001b[0m\u001b[37m\u001b[0m \u001b[1m361s\u001b[0m 2s/step - accuracy: 0.9984 - loss: 0.0049 - val_accuracy: 0.9648 - val_loss: 0.2533\n",
            "Epoch 47/50\n",
            "\u001b[1m164/164\u001b[0m \u001b[32m━━━━━━━━━━━━━━━━━━━━\u001b[0m\u001b[37m\u001b[0m \u001b[1m363s\u001b[0m 2s/step - accuracy: 0.9990 - loss: 0.0031 - val_accuracy: 0.9678 - val_loss: 0.2244\n",
            "Epoch 48/50\n",
            "\u001b[1m164/164\u001b[0m \u001b[32m━━━━━━━━━━━━━━━━━━━━\u001b[0m\u001b[37m\u001b[0m \u001b[1m364s\u001b[0m 2s/step - accuracy: 0.9992 - loss: 0.0031 - val_accuracy: 0.9663 - val_loss: 0.2280\n",
            "Epoch 49/50\n",
            "\u001b[1m164/164\u001b[0m \u001b[32m━━━━━━━━━━━━━━━━━━━━\u001b[0m\u001b[37m\u001b[0m \u001b[1m345s\u001b[0m 2s/step - accuracy: 0.9989 - loss: 0.0025 - val_accuracy: 0.9655 - val_loss: 0.2540\n",
            "Epoch 50/50\n",
            "\u001b[1m164/164\u001b[0m \u001b[32m━━━━━━━━━━━━━━━━━━━━\u001b[0m\u001b[37m\u001b[0m \u001b[1m363s\u001b[0m 2s/step - accuracy: 0.9998 - loss: 8.0232e-04 - val_accuracy: 0.9648 - val_loss: 0.2553\n"
          ]
        },
        {
          "data": {
            "text/plain": [
              "<keras.src.callbacks.history.History at 0x7b39f4ff1a90>"
            ]
          },
          "execution_count": 6,
          "metadata": {},
          "output_type": "execute_result"
        }
      ],
      "source": [
        "# ========== IMPORTS ==========\n",
        "import os\n",
        "import numpy as np\n",
        "import matplotlib.pyplot as plt\n",
        "from PIL import Image\n",
        "from sklearn.model_selection import train_test_split\n",
        "from tensorflow.keras.preprocessing.image import load_img, img_to_array\n",
        "from tensorflow.keras.utils import to_categorical\n",
        "from tensorflow.keras.models import Sequential\n",
        "from tensorflow.keras.layers import Conv2D, MaxPooling2D, Activation, Dropout, Flatten, Dense\n",
        "from tensorflow.keras.optimizers import RMSprop\n",
        "from tensorflow.keras.preprocessing import image\n",
        "import tensorflow as tf\n",
        "\n",
        "# ========== DEFINE CLASS NAMES ==========\n",
        "class_names = {\n",
        "    0: 'Healthy',\n",
        "    1: 'Rust',\n",
        "    2: 'Blight',\n",
        "    3: 'Leaf Spot Gray'\n",
        "}\n",
        "\n",
        "# ========== DATA LOADING FUNCTION ==========\n",
        "def load_images_from_folder(folder, label):\n",
        "    images = []\n",
        "    labels = []\n",
        "    for filename in os.listdir(folder):\n",
        "        try:\n",
        "            img = load_img(os.path.join(folder, filename), target_size=(150, 150))\n",
        "            img = img_to_array(img)\n",
        "            images.append(img)\n",
        "            labels.append(label)\n",
        "        except Exception as e:\n",
        "            print(f\"Error loading image {filename}: {e}\")\n",
        "    return np.array(images), np.array(labels)\n",
        "\n",
        "# ========== LOAD IMAGES ==========\n",
        "healthy_dir = '/content/drive/MyDrive/training/healthy'\n",
        "rusty_dir =  '/content/drive/MyDrive/training/rust_'\n",
        "blight_dir = '/content/drive/MyDrive/training/Blight'\n",
        "leaf_spot_gray_dir = '/content/drive/MyDrive/training/leaf_spot Gray'\n",
        "\n",
        "healthy_images, healthy_labels = load_images_from_folder(healthy_dir, 0)\n",
        "rusty_images, rusty_labels = load_images_from_folder(rusty_dir, 1)\n",
        "blight_images, blight_labels = load_images_from_folder(blight_dir, 2)\n",
        "leaf_spot_gray_images, leaf_spot_gray_labels = load_images_from_folder(leaf_spot_gray_dir, 3)\n",
        "\n",
        "# Combine data\n",
        "X = np.concatenate((healthy_images, rusty_images, blight_images, leaf_spot_gray_images))\n",
        "y = np.concatenate((healthy_labels, rusty_labels, blight_labels, leaf_spot_gray_labels))\n",
        "\n",
        "# Check class distribution\n",
        "import collections\n",
        "labels = np.argmax(to_categorical(y, num_classes=4), axis=1)\n",
        "print(collections.Counter(labels))\n",
        "\n",
        "# Normalize and encode\n",
        "X = X / 255.0\n",
        "y = to_categorical(y, num_classes=4)\n",
        "\n",
        "# Train/test split\n",
        "X_train, X_val, y_train, y_val = train_test_split(X, y, test_size=0.2, random_state=42)\n",
        "\n",
        "# ========== MODEL DEFINITION ==========\n",
        "model = Sequential([\n",
        "    Conv2D(32, (3, 3), activation='relu', input_shape=(150, 150, 3)),\n",
        "    MaxPooling2D((2, 2)),\n",
        "\n",
        "    Conv2D(64, (3, 3), activation='relu'),\n",
        "    MaxPooling2D((2, 2)),\n",
        "\n",
        "    Conv2D(128, (3, 3), activation='relu'),\n",
        "    MaxPooling2D((2, 2)),\n",
        "\n",
        "    Conv2D(128, (3, 3), activation='relu'),\n",
        "    MaxPooling2D((2, 2)),\n",
        "\n",
        "    Flatten(),\n",
        "    Dense(512, activation='relu'),\n",
        "    Dense(4, activation='softmax')  # 4 classes\n",
        "])\n",
        "\n",
        "model.compile(\n",
        "    loss='categorical_crossentropy',  \n",
        "    optimizer=RMSprop(learning_rate=1e-4),\n",
        "    metrics=['accuracy']\n",
        ")\n",
        "\n",
        "# ========== MODEL TRAINING ==========\n",
        "model.fit(\n",
        "    X_train, y_train,\n",
        "    epochs=50,\n",
        "    validation_data=(X_val, y_val)\n",
        ")\n",
        "\n",
        "\n"
      ]
    },
    {
      "cell_type": "code",
      "execution_count": 7,
      "metadata": {
        "colab": {
          "base_uri": "https://localhost:8080/"
        },
        "id": "1DvrLZGMPrLP",
        "outputId": "b90a56d4-708a-418a-b414-96db71e26c5e"
      },
      "outputs": [
        {
          "name": "stdout",
          "output_type": "stream",
          "text": [
            "\u001b[1m41/41\u001b[0m \u001b[32m━━━━━━━━━━━━━━━━━━━━\u001b[0m\u001b[37m\u001b[0m \u001b[1m27s\u001b[0m 631ms/step - accuracy: 0.9579 - loss: 0.3262\n",
            "Validation Accuracy: 0.96\n"
          ]
        }
      ],
      "source": [
        "loss, acc = model.evaluate(X_val, y_val)\n",
        "print(f\"Validation Accuracy: {acc:.2f}\")\n"
      ]
    },
    {
      "cell_type": "code",
      "execution_count": 8,
      "metadata": {
        "id": "DFcFPBQOXgvK"
      },
      "outputs": [],
      "source": [
        "model.save(\"net.keras\")"
      ]
    },
    {
      "cell_type": "code",
      "execution_count": 9,
      "metadata": {
        "colab": {
          "base_uri": "https://localhost:8080/",
          "height": 17
        },
        "id": "1232kTfyXg4G",
        "outputId": "0bc98ca2-47d1-4d1a-f323-98b06b0e7b04"
      },
      "outputs": [
        {
          "data": {
            "application/javascript": "\n    async function download(id, filename, size) {\n      if (!google.colab.kernel.accessAllowed) {\n        return;\n      }\n      const div = document.createElement('div');\n      const label = document.createElement('label');\n      label.textContent = `Downloading \"${filename}\": `;\n      div.appendChild(label);\n      const progress = document.createElement('progress');\n      progress.max = size;\n      div.appendChild(progress);\n      document.body.appendChild(div);\n\n      const buffers = [];\n      let downloaded = 0;\n\n      const channel = await google.colab.kernel.comms.open(id);\n      // Send a message to notify the kernel that we're ready.\n      channel.send({})\n\n      for await (const message of channel.messages) {\n        // Send a message to notify the kernel that we're ready.\n        channel.send({})\n        if (message.buffers) {\n          for (const buffer of message.buffers) {\n            buffers.push(buffer);\n            downloaded += buffer.byteLength;\n            progress.value = downloaded;\n          }\n        }\n      }\n      const blob = new Blob(buffers, {type: 'application/binary'});\n      const a = document.createElement('a');\n      a.href = window.URL.createObjectURL(blob);\n      a.download = filename;\n      div.appendChild(a);\n      a.click();\n      div.remove();\n    }\n  ",
            "text/plain": [
              "<IPython.core.display.Javascript object>"
            ]
          },
          "metadata": {},
          "output_type": "display_data"
        },
        {
          "data": {
            "application/javascript": "download(\"download_3c20969c-9fac-4283-81c6-f1bb69fb836e\", \"net.keras\", 27685242)",
            "text/plain": [
              "<IPython.core.display.Javascript object>"
            ]
          },
          "metadata": {},
          "output_type": "display_data"
        }
      ],
      "source": [
        "# Download the trained model\n",
        "from google.colab import files\n",
        "files.download(\"net.keras\")"
      ]
    }
  ],
  "metadata": {
    "colab": {
      "provenance": []
    },
    "kernelspec": {
      "display_name": "Python 3",
      "name": "python3"
    },
    "language_info": {
      "name": "python"
    }
  },
  "nbformat": 4,
  "nbformat_minor": 0
}
